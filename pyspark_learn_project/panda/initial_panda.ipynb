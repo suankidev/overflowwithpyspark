{
 "cells": [
  {
   "cell_type": "code",
   "execution_count": 1,
   "id": "f8060e84",
   "metadata": {},
   "outputs": [],
   "source": [
    "\n",
    "\"\"\"\n",
    "open source library provide high-perfromance data manuplation\n",
    "\n",
    "panda provide two data structure for processing\n",
    "\n",
    "Series : One dimension arry  , row lebels of series are called index\n",
    "DataFrame: It can be any list, scalarr or dict value\n",
    "\n",
    "\"\"\"\n",
    "\n",
    "import pandas as pd\n",
    "import numpy as np\n",
    "\n",
    "\n",
    "\n"
   ]
  },
  {
   "cell_type": "code",
   "execution_count": 5,
   "id": "9e62afd5",
   "metadata": {},
   "outputs": [
    {
     "data": {
      "text/plain": [
       "array(['p', 'a', 'n', 'd', 'a', 's'], dtype='<U1')"
      ]
     },
     "execution_count": 5,
     "metadata": {},
     "output_type": "execute_result"
    }
   ],
   "source": [
    "\n",
    "info = np.array(['p','a','n','d','a','s'])\n",
    "\n",
    "info"
   ]
  },
  {
   "cell_type": "code",
   "execution_count": 11,
   "id": "7d4f3bd9",
   "metadata": {},
   "outputs": [
    {
     "name": "stdout",
     "output_type": "stream",
     "text": [
      "p \n",
      "\n",
      "\n",
      " 0    p\n",
      "1    a\n",
      "2    n\n",
      "3    d\n",
      "4    a\n",
      "5    s\n",
      "dtype: object\n"
     ]
    }
   ],
   "source": [
    "a = pd.Series(info)\n",
    "\n",
    "print(a[0] , \"\\n\\n\\n\", a)"
   ]
  },
  {
   "cell_type": "code",
   "execution_count": 13,
   "id": "422f72dc",
   "metadata": {},
   "outputs": [
    {
     "name": "stdout",
     "output_type": "stream",
     "text": [
      "0            1\n",
      "1            2\n",
      "2            3\n",
      "3    [1, 1, 1]\n",
      "dtype: object\n"
     ]
    }
   ],
   "source": [
    "print(pd.Series([1,2,3,[1,1,1]]))"
   ]
  },
  {
   "cell_type": "code",
   "execution_count": 16,
   "id": "91d5a375",
   "metadata": {},
   "outputs": [
    {
     "name": "stdout",
     "output_type": "stream",
     "text": [
      "test1    1\n",
      "test2    2\n",
      "dtype: int64\n"
     ]
    }
   ],
   "source": [
    "print(pd.Series({'test1':1,\"test2\":2}))"
   ]
  },
  {
   "cell_type": "code",
   "execution_count": 18,
   "id": "72e36980",
   "metadata": {},
   "outputs": [
    {
     "name": "stdout",
     "output_type": "stream",
     "text": [
      "        0\n",
      "0  Sujeet\n",
      "1  Ramesh\n",
      "2   Rajoo\n"
     ]
    }
   ],
   "source": [
    "#datafram\n",
    "\n",
    "name = ['Sujeet', 'Ramesh', 'Rajoo']\n",
    "\n",
    "\n",
    "df = pd.DataFrame(name)\n",
    "\n",
    "print(df)\n",
    "\n",
    "#row index and column index both are there in dataframe"
   ]
  },
  {
   "cell_type": "code",
   "execution_count": 20,
   "id": "edafad8f",
   "metadata": {},
   "outputs": [
    {
     "name": "stdout",
     "output_type": "stream",
     "text": [
      "    first   last                 email\n",
      "0  sujeet  singh  sujeet.kumar@abc.com\n",
      "1  Ramesh  kumar      ramesh@gmail.com\n"
     ]
    }
   ],
   "source": [
    "people ={\n",
    "    \n",
    "    \"first\" : [\"sujeet\",'Ramesh'],\n",
    "    \"last\": [\"singh\",'kumar'],\n",
    "    \"email\": [\"sujeet.kumar@abc.com\", 'ramesh@gmail.com']\n",
    "    \n",
    "}\n",
    "\n",
    "df = pd.DataFrame(people)\n",
    "print(df)\n"
   ]
  },
  {
   "cell_type": "code",
   "execution_count": 23,
   "id": "9cef4fff",
   "metadata": {},
   "outputs": [
    {
     "name": "stdout",
     "output_type": "stream",
     "text": [
      "Series([], dtype: float64)\n"
     ]
    },
    {
     "name": "stderr",
     "output_type": "stream",
     "text": [
      "C:\\Users\\sujee\\AppData\\Local\\Temp\\ipykernel_10544\\2999904499.py:1: FutureWarning: The default dtype for empty Series will be 'object' instead of 'float64' in a future version. Specify a dtype explicitly to silence this warning.\n",
      "  x = pd.Series()\n"
     ]
    }
   ],
   "source": [
    "\n",
    "\n",
    "x = pd.Series()\n",
    "\n",
    "print(x)"
   ]
  },
  {
   "cell_type": "code",
   "execution_count": 34,
   "id": "3155a56d",
   "metadata": {},
   "outputs": [
    {
     "name": "stdout",
     "output_type": "stream",
     "text": [
      "z    10\n",
      "x    20\n",
      "y    15\n",
      "dtype: int64\n"
     ]
    }
   ],
   "source": [
    "\n",
    "info = {'z':10, 'x':20, 'y':15}\n",
    "\n",
    "d = pd.Series(info)\n",
    "\n",
    "print(d)\n"
   ]
  },
  {
   "cell_type": "code",
   "execution_count": 37,
   "id": "6528fd33",
   "metadata": {},
   "outputs": [
    {
     "name": "stdout",
     "output_type": "stream",
     "text": [
      "0    4\n",
      "1    4\n",
      "2    4\n",
      "3    4\n",
      "dtype: int64\n"
     ]
    },
    {
     "data": {
      "text/plain": [
       "'data, index, dtype, copy'"
      ]
     },
     "execution_count": 37,
     "metadata": {},
     "output_type": "execute_result"
    }
   ],
   "source": [
    "d = pd.Series(4, index=[0,1,2,3])\n",
    "\n",
    "print(d)\n",
    "\n",
    "\"\"\"data, index, dtype, copy\"\"\""
   ]
  },
  {
   "cell_type": "code",
   "execution_count": 40,
   "id": "939fb1fb",
   "metadata": {},
   "outputs": [
    {
     "name": "stdout",
     "output_type": "stream",
     "text": [
      "a    1\n",
      "b    2\n",
      "c    3\n",
      "dtype: int64\n"
     ]
    }
   ],
   "source": [
    "d = pd.Series([1,2,3], index=['a','b','c'])\n",
    "\n",
    "print(d)"
   ]
  },
  {
   "cell_type": "code",
   "execution_count": 44,
   "id": "a7de4f3c",
   "metadata": {},
   "outputs": [
    {
     "data": {
      "text/plain": [
       "3"
      ]
     },
     "execution_count": 44,
     "metadata": {},
     "output_type": "execute_result"
    }
   ],
   "source": [
    "d.index\n",
    "d.shape\n",
    "d.dtype\n",
    "d.size"
   ]
  },
  {
   "cell_type": "code",
   "execution_count": 45,
   "id": "3122bac7",
   "metadata": {},
   "outputs": [
    {
     "data": {
      "text/plain": [
       "False"
      ]
     },
     "execution_count": 45,
     "metadata": {},
     "output_type": "execute_result"
    }
   ],
   "source": [
    "d.empty"
   ]
  },
  {
   "cell_type": "code",
   "execution_count": 48,
   "id": "225bb9bf",
   "metadata": {},
   "outputs": [
    {
     "data": {
      "text/plain": [
       "Index(['a', 'b', 'c'], dtype='object')"
      ]
     },
     "execution_count": 48,
     "metadata": {},
     "output_type": "execute_result"
    }
   ],
   "source": [
    "d.index"
   ]
  },
  {
   "cell_type": "code",
   "execution_count": 50,
   "id": "ddd8a16a",
   "metadata": {},
   "outputs": [
    {
     "data": {
      "text/plain": [
       "array([1, 2, 3], dtype=int64)"
      ]
     },
     "execution_count": 50,
     "metadata": {},
     "output_type": "execute_result"
    }
   ],
   "source": [
    "d.values"
   ]
  },
  {
   "cell_type": "code",
   "execution_count": 66,
   "id": "9d18162b",
   "metadata": {},
   "outputs": [
    {
     "name": "stdout",
     "output_type": "stream",
     "text": [
      "object RangeIndex(start=0, stop=2, step=1) (2,)\n"
     ]
    }
   ],
   "source": [
    "a = pd.Series([1,'hello'])\n",
    "\n",
    "print(a.dtype, a.index, a.shape)\n",
    "    "
   ]
  },
  {
   "cell_type": "code",
   "execution_count": 78,
   "id": "9eb8bf1e",
   "metadata": {},
   "outputs": [
    {
     "name": "stdout",
     "output_type": "stream",
     "text": [
      "0    Core\n",
      "1     NaN\n",
      "2     NaN\n",
      "3     NaN\n",
      "dtype: object\n"
     ]
    },
    {
     "data": {
      "text/plain": [
       "0      i like Java\n",
       "1         i like C\n",
       "2       i like C++\n",
       "3    i like python\n",
       "dtype: object"
      ]
     },
     "execution_count": 78,
     "metadata": {},
     "output_type": "execute_result"
    }
   ],
   "source": [
    "\n",
    "\n",
    "\n",
    "a = pd.Series(['Java', 'C', 'C++', 'python'])\n",
    "\n",
    "\n",
    "\n",
    "t = a.map({'Java': 'Core'})\n",
    "\n",
    "print(t)\n",
    "\n",
    "a.map(\"i like {}\".format)"
   ]
  },
  {
   "cell_type": "code",
   "execution_count": null,
   "id": "4bb2f607",
   "metadata": {},
   "outputs": [],
   "source": [
    "\n"
   ]
  },
  {
   "cell_type": "code",
   "execution_count": null,
   "id": "8ff37db9",
   "metadata": {},
   "outputs": [],
   "source": []
  },
  {
   "cell_type": "code",
   "execution_count": null,
   "id": "082cc75c",
   "metadata": {},
   "outputs": [],
   "source": []
  },
  {
   "cell_type": "code",
   "execution_count": null,
   "id": "8c91b2ca",
   "metadata": {},
   "outputs": [],
   "source": []
  },
  {
   "cell_type": "code",
   "execution_count": null,
   "id": "5256588d",
   "metadata": {},
   "outputs": [],
   "source": []
  },
  {
   "cell_type": "code",
   "execution_count": null,
   "id": "15deaa51",
   "metadata": {},
   "outputs": [],
   "source": []
  },
  {
   "cell_type": "code",
   "execution_count": null,
   "id": "13d1b71c",
   "metadata": {},
   "outputs": [],
   "source": []
  },
  {
   "cell_type": "code",
   "execution_count": null,
   "id": "3621bc85",
   "metadata": {},
   "outputs": [],
   "source": []
  },
  {
   "cell_type": "code",
   "execution_count": null,
   "id": "8dbfd382",
   "metadata": {},
   "outputs": [],
   "source": []
  },
  {
   "cell_type": "code",
   "execution_count": null,
   "id": "f95cea0b",
   "metadata": {},
   "outputs": [],
   "source": []
  },
  {
   "cell_type": "code",
   "execution_count": null,
   "id": "a7cbfc90",
   "metadata": {},
   "outputs": [],
   "source": []
  },
  {
   "cell_type": "code",
   "execution_count": null,
   "id": "7a39bf96",
   "metadata": {},
   "outputs": [],
   "source": []
  },
  {
   "cell_type": "code",
   "execution_count": null,
   "id": "ee6db0e3",
   "metadata": {},
   "outputs": [],
   "source": []
  },
  {
   "cell_type": "code",
   "execution_count": null,
   "id": "8319f789",
   "metadata": {},
   "outputs": [],
   "source": []
  },
  {
   "cell_type": "code",
   "execution_count": null,
   "id": "08c67d8b",
   "metadata": {},
   "outputs": [],
   "source": []
  },
  {
   "cell_type": "code",
   "execution_count": null,
   "id": "42e8b33d",
   "metadata": {},
   "outputs": [],
   "source": []
  },
  {
   "cell_type": "code",
   "execution_count": null,
   "id": "eb17149b",
   "metadata": {},
   "outputs": [],
   "source": []
  },
  {
   "cell_type": "code",
   "execution_count": null,
   "id": "820ad5a7",
   "metadata": {},
   "outputs": [],
   "source": []
  }
 ],
 "metadata": {
  "kernelspec": {
   "display_name": "Python 3 (ipykernel)",
   "language": "python",
   "name": "python3"
  },
  "language_info": {
   "codemirror_mode": {
    "name": "ipython",
    "version": 3
   },
   "file_extension": ".py",
   "mimetype": "text/x-python",
   "name": "python",
   "nbconvert_exporter": "python",
   "pygments_lexer": "ipython3",
   "version": "3.8.16"
  }
 },
 "nbformat": 4,
 "nbformat_minor": 5
}
