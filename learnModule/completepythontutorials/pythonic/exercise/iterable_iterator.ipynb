{
 "cells": [
  {
   "cell_type": "code",
   "execution_count": 1,
   "id": "84bb6710",
   "metadata": {},
   "outputs": [
    {
     "data": {
      "text/plain": [
       "'\\niterable :   \\niterator :\\nGenerator :\\n\\n\\n'"
      ]
     },
     "execution_count": 1,
     "metadata": {},
     "output_type": "execute_result"
    }
   ],
   "source": [
    "\n",
    "\n",
    "\n",
    "\n",
    "name=['pratik','rohit','suraj','varda','rohan','nilesh','subham','vishal']\n",
    "grade=[100,200,300,400,500,600,700,800]\n",
    "height={0:175,1:145,2:134,3:138,4:156,5:190,6:167,7:140,8:133}\n",
    "education=('BE','MBA','BCA','BTECH','MCA','PGDM','MASS COMM','MSC')\n",
    "\n",
    "\n",
    "\n",
    "\"\"\"\n",
    "iterable :   looped over items, __iter__ method will be availbe if any item is iterable\n",
    "iterator :\n",
    "Generator :\n",
    "\n",
    "\n",
    "\"\"\"\n",
    "\n"
   ]
  },
  {
   "cell_type": "code",
   "execution_count": 4,
   "id": "c313a7a1",
   "metadata": {},
   "outputs": [
    {
     "name": "stdout",
     "output_type": "stream",
     "text": [
      "['__add__', '__class__', '__contains__', '__delattr__', '__delitem__', '__dir__', '__doc__', '__eq__', '__format__', '__ge__', '__getattribute__', '__getitem__', '__gt__', '__hash__', '__iadd__', '__imul__', '__init__', '__init_subclass__', '__iter__', '__le__', '__len__', '__lt__', '__mul__', '__ne__', '__new__', '__reduce__', '__reduce_ex__', '__repr__', '__reversed__', '__rmul__', '__setattr__', '__setitem__', '__sizeof__', '__str__', '__subclasshook__', 'append', 'clear', 'copy', 'count', 'extend', 'index', 'insert', 'pop', 'remove', 'reverse', 'sort']\n"
     ]
    }
   ],
   "source": [
    "print(dir(list))"
   ]
  },
  {
   "cell_type": "code",
   "execution_count": 7,
   "id": "386fbc50",
   "metadata": {},
   "outputs": [
    {
     "ename": "TypeError",
     "evalue": "'list' object is not an iterator",
     "output_type": "error",
     "traceback": [
      "\u001b[1;31m---------------------------------------------------------------------------\u001b[0m",
      "\u001b[1;31mTypeError\u001b[0m                                 Traceback (most recent call last)",
      "Cell \u001b[1;32mIn[7], line 8\u001b[0m\n\u001b[0;32m      1\u001b[0m name\u001b[38;5;241m.\u001b[39m\u001b[38;5;21m__iter__\u001b[39m  \u001b[38;5;66;03m#will return iterator (meaning it knows where it was last accessed) ..\u001b[39;00m\n\u001b[0;32m      3\u001b[0m \u001b[38;5;66;03m#. iterator has state\u001b[39;00m\n\u001b[0;32m      4\u001b[0m \n\u001b[0;32m      5\u001b[0m \u001b[38;5;66;03m#for loop calling __iter__ method\u001b[39;00m\n\u001b[1;32m----> 8\u001b[0m \u001b[38;5;28mprint\u001b[39m(\u001b[38;5;28;43mnext\u001b[39;49m\u001b[43m(\u001b[49m\u001b[43mname\u001b[49m\u001b[43m)\u001b[49m)\n",
      "\u001b[1;31mTypeError\u001b[0m: 'list' object is not an iterator"
     ]
    }
   ],
   "source": [
    "name.__iter__  #will return iterator (meaning it knows where it was last accessed) ..\n",
    "\n",
    "#. iterator has state\n",
    "\n",
    "#for loop calling __iter__ method\n",
    "\n",
    "\n",
    "print(next(name))"
   ]
  },
  {
   "cell_type": "code",
   "execution_count": 11,
   "id": "5d225372",
   "metadata": {},
   "outputs": [
    {
     "name": "stdout",
     "output_type": "stream",
     "text": [
      "['__class__', '__delattr__', '__dir__', '__doc__', '__eq__', '__format__', '__ge__', '__getattribute__', '__gt__', '__hash__', '__init__', '__init_subclass__', '__iter__', '__le__', '__length_hint__', '__lt__', '__ne__', '__new__', '__next__', '__reduce__', '__reduce_ex__', '__repr__', '__setattr__', '__setstate__', '__sizeof__', '__str__', '__subclasshook__']\n",
      "<list_iterator object at 0x000001BD87CB3220>\n"
     ]
    }
   ],
   "source": [
    "i_name = iter(name) #name.__iter__\n",
    "\n",
    "print(dir(i_name))  # will have __next__, __iter__\n",
    "\n",
    "print(i_name)  "
   ]
  },
  {
   "cell_type": "code",
   "execution_count": 14,
   "id": "5edc9507",
   "metadata": {},
   "outputs": [
    {
     "name": "stdout",
     "output_type": "stream",
     "text": [
      "varda\n",
      "rohan\n"
     ]
    }
   ],
   "source": [
    "print(next(i_name))\n",
    "\n",
    "print(next(i_name))\n"
   ]
  },
  {
   "cell_type": "code",
   "execution_count": 18,
   "id": "e6434ac8",
   "metadata": {},
   "outputs": [
    {
     "name": "stdout",
     "output_type": "stream",
     "text": [
      "pratik\n",
      "rohit\n",
      "suraj\n",
      "varda\n",
      "rohan\n",
      "nilesh\n",
      "subham\n",
      "vishal\n"
     ]
    }
   ],
   "source": [
    "i_name = iter(name)\n",
    "\n",
    "while True:\n",
    "    try:\n",
    "        item = next(i_name)\n",
    "        print(item)\n",
    "    except StopIteration as e:\n",
    "        break;\n",
    "\n"
   ]
  },
  {
   "cell_type": "code",
   "execution_count": 22,
   "id": "4f120b8f",
   "metadata": {},
   "outputs": [
    {
     "name": "stdout",
     "output_type": "stream",
     "text": [
      "1\n",
      "2\n",
      "3\n",
      "4\n"
     ]
    }
   ],
   "source": [
    "class MyRange:\n",
    "    \n",
    "    def __init__(self, start, end):\n",
    "        self.value = start\n",
    "        self.end = end\n",
    "        \n",
    "    def __iter__(self):\n",
    "        return self\n",
    "    \n",
    "    def __next__(self):\n",
    "        if self.value >= self.end:\n",
    "            raise StopIteration\n",
    "        \n",
    "        counter = self.value\n",
    "        self.value += 1\n",
    "        return counter\n",
    "    \n",
    "    \n",
    "\n",
    "obj = MyRange(1,5)\n",
    "\n",
    "\n",
    "for num in obj:\n",
    "    print(num)\n",
    "    \n",
    "  \n",
    "\n",
    "\n"
   ]
  },
  {
   "cell_type": "code",
   "execution_count": 27,
   "id": "d55e12a5",
   "metadata": {},
   "outputs": [
    {
     "name": "stdout",
     "output_type": "stream",
     "text": [
      "1\n",
      "2\n"
     ]
    }
   ],
   "source": [
    "#generator\n",
    "\n",
    "\n",
    "def get_val(start, end):\n",
    "    current = start\n",
    "    while current < end:\n",
    "        yield current\n",
    "        current += 1\n",
    "        \n",
    "        \n",
    "t = get_val(1,5)\n",
    "print(next(t))\n",
    "print(next(t))\n",
    "\n",
    "\n",
    "    "
   ]
  }
 ],
 "metadata": {
  "kernelspec": {
   "display_name": "Python 3 (ipykernel)",
   "language": "python",
   "name": "python3"
  },
  "language_info": {
   "codemirror_mode": {
    "name": "ipython",
    "version": 3
   },
   "file_extension": ".py",
   "mimetype": "text/x-python",
   "name": "python",
   "nbconvert_exporter": "python",
   "pygments_lexer": "ipython3",
   "version": "3.8.16"
  }
 },
 "nbformat": 4,
 "nbformat_minor": 5
}
